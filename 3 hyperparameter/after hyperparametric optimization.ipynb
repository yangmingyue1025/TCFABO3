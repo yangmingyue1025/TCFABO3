{
 "cells": [
  {
   "cell_type": "code",
   "execution_count": null,
   "id": "9b9f1947-3796-41ef-985c-beab4f5455a4",
   "metadata": {},
   "outputs": [],
   "source": [
    "import os\n",
    "import numpy as np\n",
    "import pandas as pd\n",
    "pd.set_option('display.max_columns', None)\n",
    "pd.set_option('display.max_rows',None)\n",
    "from glob import glob\n",
    "import warnings \n",
    "warnings.filterwarnings(\"ignore\")"
   ]
  },
  {
   "cell_type": "code",
   "execution_count": null,
   "id": "7378dd75-99d7-4891-9d11-25f88b7fce8f",
   "metadata": {},
   "outputs": [],
   "source": [
    "importance_combination = pd.read_csv('feature_combination.csv')"
   ]
  },
  {
   "cell_type": "code",
   "execution_count": null,
   "id": "0cc33f38-49fe-409d-9fc8-9abdb2ae8cb1",
   "metadata": {},
   "outputs": [],
   "source": [
    "importance_combination"
   ]
  },
  {
   "cell_type": "markdown",
   "id": "7d2fd576-fb03-45f5-a44c-eae498f989e5",
   "metadata": {},
   "source": [
    "## svr.rbf"
   ]
  },
  {
   "cell_type": "code",
   "execution_count": null,
   "id": "cd30f30f-f252-40c3-87b9-521ee81db309",
   "metadata": {},
   "outputs": [],
   "source": [
    "dizhi = \"/svr.rbf/\"\n",
    "dire = f\"{dizhi}result/\""
   ]
  },
  {
   "cell_type": "code",
   "execution_count": null,
   "id": "32a4957a-c8e1-40af-9eb9-4db5cb37c0d8",
   "metadata": {},
   "outputs": [],
   "source": [
    "aa = list(range(0,40,1)) #index(gamma)\n",
    "print(aa)\n",
    "bb = list()\n",
    "for k in range(1,14,1): #columns(cost)\n",
    "    V_id = f'V{k}'\n",
    "    bb += [V_id]\n",
    "print(bb)\n",
    "cc = list()\n",
    "for i in range(2,82,2): #gamma\n",
    "    c = i/10\n",
    "    cc += [c]\n",
    "print(cc)\n",
    "dd = [0.015625,  0.03125,  0.0625, 0.125, 0.25, 0.5, 1, 2, 4, 8, 16, 32, 64]"
   ]
  },
  {
   "cell_type": "code",
   "execution_count": null,
   "id": "1bf97503-a0ba-4e77-a4d8-d1f1ea18fe54",
   "metadata": {},
   "outputs": [],
   "source": [
    "r2_te = pd.DataFrame()\n",
    "k = 1\n",
    "for i in importance_combination.values.tolist():\n",
    "    r2_te_sum = pd.DataFrame(0 , index = aa, \n",
    "                             columns = bb)\n",
    "    print(f\"{k}.{i[0]}\")\n",
    "    k = k + 1\n",
    "    for j in range(1, 31):\n",
    "        name = f' {j} {i[0]} r2_test.csv'\n",
    "        data = f\"{dire}{name}\"\n",
    "        file = pd.read_csv(data)\n",
    "        file = file.iloc[:,1:] \n",
    "        r2_te_sum = r2_te_sum + file\n",
    "    r2_te_sum = r2_te_sum/30\n",
    "    r2_te_sum.index = cc\n",
    "    r2_te_sum.columns = dd\n",
    "    r2_te_sum_find = r2_te_sum.max()\n",
    "    fc_max_r2_te = r2_te_sum_find.max()\n",
    "    print(r2_te_sum)\n",
    "    for index, row in r2_te_sum.iterrows():\n",
    "        for column in r2_te_sum.columns:\n",
    "            value = row[column]\n",
    "            if value == fc_max_r2_te:\n",
    "                r2_te = r2_te.append({'features':i[0], 'best_hp_result':fc_max_r2_te, \n",
    "                                        'gamma':index, 'cost':column}, ignore_index = True)\n",
    "r2_te.drop_duplicates(subset= ['best_hp_result'],keep='first',inplace=True)"
   ]
  },
  {
   "cell_type": "code",
   "execution_count": null,
   "id": "563519b7-14ad-48b5-a3fe-04167fd6fce4",
   "metadata": {},
   "outputs": [],
   "source": [
    "r2_te"
   ]
  },
  {
   "cell_type": "code",
   "execution_count": null,
   "id": "824c47e5-076b-4b76-bf91-6c822efb2620",
   "metadata": {},
   "outputs": [],
   "source": [
    "r2_te.to_csv('svr.rbf/r2_te.csv', index = False)"
   ]
  },
  {
   "cell_type": "markdown",
   "id": "83d5a27a-2de1-4047-a817-ea6495eae4aa",
   "metadata": {},
   "source": [
    "## optimal"
   ]
  },
  {
   "cell_type": "code",
   "execution_count": null,
   "id": "1e9bf939-ee05-4508-bb7b-9be894202db2",
   "metadata": {},
   "outputs": [],
   "source": [
    "dizhi = \"/svr.rbf/\"\n",
    "r21000_test = pd.read_csv(f'{dizhi}r2_test.csv')\n",
    "rmse1000_test = pd.read_csv(f'{dizhi}rmse_test.csv')\n",
    "r21000_test = r21000_test.replace(0,np.nan)\n",
    "rmse1000_test = rmse1000_test.replace(0,np.nan)\n",
    "r2_test = r21000_test.iloc[:,1:]\n",
    "rmse_test = rmse1000_test.iloc[:,1:]\n",
    "r21000_train = pd.read_csv(f'{dizhi}r2_train.csv')\n",
    "rmse1000_train = pd.read_csv(f'{dizhi}rmse_train.csv')\n",
    "r21000_train = r21000_train.replace(0,np.nan)\n",
    "rmse1000_train = rmse1000_train.replace(0,np.nan)\n",
    "r2_train = r21000_train.iloc[:,1:]\n",
    "rmse_train = rmse1000_train.iloc[:,1:]"
   ]
  },
  {
   "cell_type": "code",
   "execution_count": null,
   "id": "aebb9193-0972-4d54-a0fd-5f86bd6073d8",
   "metadata": {},
   "outputs": [],
   "source": [
    "datas = pd.DataFrame()\n",
    "datas['features'] = importance_combination['feature']\n",
    "datas['r2_test'] = r2_test.mean(axis = 1)\n",
    "datas['rmse_test'] = rmse_test.mean(axis = 1)\n",
    "datas['r2_train'] = r2_train.mean(axis = 1)\n",
    "datas['rmse_train'] = rmse_train.mean(axis = 1)\n",
    "result = pd.DataFrame()\n",
    "for data in datas.values.tolist():\n",
    "    feature, r2_1, rmse_1, r2_2, rmse_2 = data\n",
    "    number = feature.split('+')\n",
    "    L = len(number)\n",
    "    x = int(L)\n",
    "    result = result.append({'feature':feature, 'feature_number':x, 'rmse_test':rmse_1, 'r2_test':r2_1, 'rmse_train':rmse_2, 'r2_train':r2_2}, ignore_index = True)"
   ]
  },
  {
   "cell_type": "code",
   "execution_count": null,
   "id": "4233a044-71f2-4b46-bb1c-32f77a92f7b6",
   "metadata": {},
   "outputs": [],
   "source": [
    "result"
   ]
  },
  {
   "cell_type": "code",
   "execution_count": null,
   "id": "39cf6ef8-330c-4a87-adbd-9a0ccb8cbcc7",
   "metadata": {},
   "outputs": [],
   "source": [
    "result.to_csv(f'{dizhi}your optimal result.csv',index = False)"
   ]
  },
  {
   "cell_type": "markdown",
   "id": "3f59596a-7336-4b81-b929-42a2a4be46b5",
   "metadata": {},
   "source": [
    "## gbdt"
   ]
  },
  {
   "cell_type": "code",
   "execution_count": null,
   "id": "2a85a1f8-987d-4b73-9b8c-f203d878cb6f",
   "metadata": {},
   "outputs": [],
   "source": [
    "dizhi = \"/gbdt/\"\n",
    "dire = f\"{dizhi}result/\""
   ]
  },
  {
   "cell_type": "code",
   "execution_count": null,
   "id": "a66cb8e0-ceae-465c-bacd-24ae3b8a259e",
   "metadata": {},
   "outputs": [],
   "source": [
    "r2_te = pd.DataFrame()\n",
    "for i in importance_combination.values.tolist():\n",
    "    name = f' {i[0]} r2_test.csv'\n",
    "    file = f\"{dire}{name}\"\n",
    "    r2_te_sum = pd.read_csv(file)\n",
    "    r2_te_sum = r2_te_sum.iloc[:,1:]\n",
    "    r2_te_sum.index = [0.001, 0.005, 0.01, 0.05, 0.1, 0.5,1]\n",
    "    r2_te_sum.columns = [50, 100, 150, 200, 250, 300, 350, 400, 450, 500, 550, 600, 650, 700, 750, 800, 850, 900, 950, 1000]\n",
    "    r2_te_sum_find = r2_te_sum.max()\n",
    "    fc_max_r2_te = r2_te_sum_find.max()\n",
    "    for index, row in r2_te_sum.iterrows():\n",
    "        for column in r2_te_sum.columns:\n",
    "            value = row[column]\n",
    "            if value == fc_max_r2_te:\n",
    "                r2_te = r2_te.append({'feature':i[0], 'best_hp_result':fc_max_r2_te,\n",
    "                                      'shrinkage':index, 'ntree':column}, ignore_index = True)"
   ]
  },
  {
   "cell_type": "code",
   "execution_count": null,
   "id": "8f92593d-65dd-4f5a-be9e-bc75241bdff2",
   "metadata": {},
   "outputs": [],
   "source": [
    "r2_te.to_csv(f'{dizhi}r2_te.csv', index = False)"
   ]
  },
  {
   "cell_type": "markdown",
   "id": "48fd88bd-6a6c-4c19-9a17-9ca5822c6c45",
   "metadata": {},
   "source": [
    "## optimal"
   ]
  },
  {
   "cell_type": "code",
   "execution_count": null,
   "id": "372ffeb9-2947-4329-ade1-a6e04c599d89",
   "metadata": {},
   "outputs": [],
   "source": [
    "dizhi = '/your folder for optimal/'\n",
    "r21000_test = pd.read_csv(f'{dizhi} r2_test.csv')\n",
    "rmse1000_test = pd.read_csv(f'{dizhi} rmse_test.csv')\n",
    "r21000_test = r21000_test.replace(0,np.nan)\n",
    "rmse1000_test = rmse1000_test.replace(0,np.nan)\n",
    "r2_test = r21000_test.iloc[:,1:]\n",
    "rmse_test = rmse1000_test.iloc[:,1:]\n",
    "r21000_train = pd.read_csv(f'{dizhi} r2_train.csv')\n",
    "rmse1000_train = pd.read_csv(f'{dizhi} rmse_train.csv')\n",
    "r21000_train = r21000_train.replace(0,np.nan)\n",
    "rmse1000_train = rmse1000_train.replace(0,np.nan)\n",
    "r2_train = r21000_train.iloc[:,1:]\n",
    "rmse_train = rmse1000_train.iloc[:,1:]"
   ]
  },
  {
   "cell_type": "code",
   "execution_count": null,
   "id": "51bf6757-d56b-4157-845a-95eb4d182139",
   "metadata": {},
   "outputs": [],
   "source": [
    "datas = pd.DataFrame()\n",
    "datas['features'] = importance_combination['feature']\n",
    "datas['r2_test'] = r2_test.mean(axis = 1)\n",
    "datas['rmse_test'] = rmse_test.mean(axis = 1)\n",
    "datas['r2_train'] = r2_train.mean(axis = 1)\n",
    "datas['rmse_train'] = rmse_train.mean(axis = 1)\n",
    "result = pd.DataFrame()\n",
    "for data in datas.values.tolist():\n",
    "    feature, r2_1, rmse_1, r2_2, rmse_2 = data\n",
    "    number = feature.split('+')\n",
    "    L = len(number)\n",
    "    x = int(L)\n",
    "    result = result.append({'feature':feature, 'feature_number':x, 'rmse_test':rmse_1, 'r2_test':r2_1, 'rmse_train':rmse_2, 'r2_train':r2_2}, ignore_index = True)"
   ]
  },
  {
   "cell_type": "code",
   "execution_count": null,
   "id": "bc6157f2-a75b-4680-a15d-7b1104bff861",
   "metadata": {},
   "outputs": [],
   "source": [
    "result.to_csv(f'{dizhi}your optimal result.csv',index = False)"
   ]
  },
  {
   "cell_type": "markdown",
   "id": "c9f54b1c-01f7-4777-aaab-8bdb0da93c6c",
   "metadata": {},
   "source": [
    "## rf"
   ]
  },
  {
   "cell_type": "code",
   "execution_count": null,
   "id": "b6c50c24-87b2-4930-ab8a-a5231978ff16",
   "metadata": {},
   "outputs": [],
   "source": [
    "dizhi = \"/rf/\"\n",
    "dire = f\"{dizhi}result/\""
   ]
  },
  {
   "cell_type": "code",
   "execution_count": null,
   "id": "c4d97593-aac3-43d8-8b26-118a167e219c",
   "metadata": {},
   "outputs": [],
   "source": [
    "r2_te = pd.DataFrame()\n",
    "k = 1\n",
    "for i in importance_combination.values.tolist():\n",
    "    r2_te_sum = pd.DataFrame(0 , index = [0, 1, 2, 3, 4, 5, 6, 7, 8, 9, 10, 11], \n",
    "                             columns = ['V1', 'V2', 'V3', 'V4', 'V5', 'V6', 'V7', 'V8', 'V9', 'V10','V11', 'V12', 'V13', 'V14', 'V15', 'V16', 'V17', 'V18', 'V19', 'V20'])\n",
    "    print(f\"{k}.{i[0]}\")\n",
    "    k = k + 1\n",
    "    for j in range(1, 31):\n",
    "        name = f' {j} {i[0]} r2_test.csv'\n",
    "        data = f\"{dire}{name}\"\n",
    "        file = pd.read_csv(data)\n",
    "        file = file.iloc[:,1:] #选取出数据行和列\n",
    "        r2_te_sum = r2_te_sum + file\n",
    "    r2_te_sum = r2_te_sum/30 #求平均\n",
    "    r2_te_sum.index = [3,6,9,12,15,18,21, 24, 27, 30, 33, 36]\n",
    "    r2_te_sum.columns = [50, 100, 150, 200, 250, 300, 350, 400, 450, 500, 550, 600, 650, 700, 750, 800, 850, 900, 950, 1000]\n",
    "    r2_te_sum_find = r2_te_sum.max()\n",
    "    fc_max_r2_te = r2_te_sum_find.max()\n",
    "    for index, row in r2_te_sum.iterrows():\n",
    "        for column in r2_te_sum.columns:\n",
    "            value = row[column]\n",
    "            if value == fc_max_r2_te:\n",
    "                r2_te = r2_te.append({'features':i[0], 'best_hp_result':fc_max_r2_te, \n",
    "                                        'maxnode':index, 'ntree':column}, ignore_index = True)"
   ]
  },
  {
   "cell_type": "code",
   "execution_count": null,
   "id": "1a323982-4d10-4764-a6db-12d580c980d8",
   "metadata": {},
   "outputs": [],
   "source": [
    "result = pd.DataFrame()\n",
    "r2_te['best_mtry'] = r2_te.groupby('features')['best_hp_result'].transform('max')\n",
    "for row in r2_te.values.tolist():\n",
    "    feature, bhr, maxnode, ntree, bmtry = row\n",
    "    if bmtry == bhr:\n",
    "        result = result.append({'feature':feature, 'best_hp_result':bhr, 'maxnode':maxnode, 'ntree':ntree}, ignore_index = True)\n",
    "result.drop_duplicates(subset= ['best_hp_result'],keep='first',inplace=True)"
   ]
  },
  {
   "cell_type": "code",
   "execution_count": null,
   "id": "3ff24591-3910-44ff-b596-28a7d089e46e",
   "metadata": {},
   "outputs": [],
   "source": [
    "result.to_csv(f'{dizhi}r2_te.csv', index = False)"
   ]
  },
  {
   "cell_type": "markdown",
   "id": "537b6147-fbc9-4fc2-97ec-4b7ff2d885b9",
   "metadata": {},
   "source": [
    "## optimal"
   ]
  },
  {
   "cell_type": "code",
   "execution_count": null,
   "id": "aed9b8f7-8da4-4cda-80db-c005d3043d27",
   "metadata": {},
   "outputs": [],
   "source": [
    "dizhi = '/your folder for optimal/'\n",
    "r21000_test = pd.read_csv(f'{dizhi} r2_test.csv')\n",
    "rmse1000_test = pd.read_csv(f'{dizhi} rmse_test.csv')\n",
    "r21000_test = r21000_test.replace(0,np.nan)\n",
    "rmse1000_test = rmse1000_test.replace(0,np.nan)\n",
    "r2_test = r21000_test.iloc[:,1:]\n",
    "rmse_test = rmse1000_test.iloc[:,1:]\n",
    "r21000_train = pd.read_csv(f'{dizhi} r2_train.csv')\n",
    "rmse1000_train = pd.read_csv(f'{dizhi} rmse_train.csv')\n",
    "r21000_train = r21000_train.replace(0,np.nan)\n",
    "rmse1000_train = rmse1000_train.replace(0,np.nan)\n",
    "r2_train = r21000_train.iloc[:,1:]\n",
    "rmse_train = rmse1000_train.iloc[:,1:]"
   ]
  },
  {
   "cell_type": "code",
   "execution_count": null,
   "id": "2f8a572f-c8fc-43a4-81de-f64254e4a70d",
   "metadata": {},
   "outputs": [],
   "source": [
    "datas = pd.DataFrame()\n",
    "datas['features'] = importance_combination['feature']\n",
    "datas['r2_test'] = r2_test.mean(axis = 1)\n",
    "datas['rmse_test'] = rmse_test.mean(axis = 1)\n",
    "datas['r2_train'] = r2_train.mean(axis = 1)\n",
    "datas['rmse_train'] = rmse_train.mean(axis = 1)\n",
    "result = pd.DataFrame()\n",
    "for data in datas.values.tolist():\n",
    "    feature, r2_1, rmse_1, r2_2, rmse_2 = data\n",
    "    number = feature.split('+')\n",
    "    L = len(number)\n",
    "    x = int(L)\n",
    "    result = result.append({'feature':feature, 'feature_number':x, 'rmse_test':rmse_1, 'r2_test':r2_1, 'rmse_train':rmse_2, 'r2_train':r2_2}, ignore_index = True)"
   ]
  },
  {
   "cell_type": "code",
   "execution_count": null,
   "id": "0764f6a9-c454-4046-90d1-c3517007f59f",
   "metadata": {},
   "outputs": [],
   "source": [
    "result.to_csv(f'{dizhi}your optimal result.csv',index = False)"
   ]
  },
  {
   "cell_type": "markdown",
   "id": "70455449-ea8a-40ca-b286-d48b27d70196",
   "metadata": {},
   "source": [
    "## xgb"
   ]
  },
  {
   "cell_type": "code",
   "execution_count": null,
   "id": "148c4966-12af-45d1-9b26-971eaf8564f1",
   "metadata": {},
   "outputs": [],
   "source": [
    "dizhi = \"/result/\""
   ]
  },
  {
   "cell_type": "code",
   "execution_count": null,
   "id": "8881d70b-cedd-450d-b3a2-87a50f702761",
   "metadata": {},
   "outputs": [],
   "source": [
    "r2_te = pd.DataFrame()\n",
    "kk = 0\n",
    "for i in importance_combination.values.tolist():\n",
    "    r2_te_sum = pd.DataFrame(0 , index = [0,1, 2, 3, 4, 5], \n",
    "                             columns = ['V1', 'V2', 'V3', 'V4', 'V5','V6', 'V7', 'V8', 'V9', 'V10'])\n",
    "    for j in range(1, 31):\n",
    "        name = f'{dizhi} {j} {i[0]} r2_test.csv'\n",
    "        file = pd.read_csv(name)\n",
    "        kk = kk + 1\n",
    "        file = file.iloc[:,1:] \n",
    "        r2_te_sum = r2_te_sum + file\n",
    "    r2_te_sum = r2_te_sum/30 \n",
    "    r2_te_sum.index = [1, 2, 3, 4, 5, 6]\n",
    "    r2_te_sum.columns = [0.05, 0.10, 0.15,0.20, 0.25, 0.30, 0.35, 0.40, 0.45,0.50 ]\n",
    "    r2_te_sum_find = r2_te_sum.max()\n",
    "    fc_max_r2_te = r2_te_sum_find.max()\n",
    "    print(f'{kk}.{i[0]}')\n",
    "    print(r2_te_sum)\n",
    "    for index, row in r2_te_sum.iterrows():\n",
    "        for column in r2_te_sum.columns:\n",
    "            value = row[column]\n",
    "            if value == fc_max_r2_te:\n",
    "                r2_te = r2_te.append({'features':i[0], 'best_hp_result':fc_max_r2_te, \n",
    "                                        'max_depth':index, 'eta':column}, ignore_index = True)"
   ]
  },
  {
   "cell_type": "code",
   "execution_count": null,
   "id": "7dcbabfa-8ec1-4627-bb3c-ae0add4a5cec",
   "metadata": {},
   "outputs": [],
   "source": [
    "r2_te.to_csv('r2_te.csv',index = False)"
   ]
  },
  {
   "cell_type": "markdown",
   "id": "67c208e4-9e7f-4dd1-8a0d-1816e6af9b78",
   "metadata": {},
   "source": [
    "## optimal"
   ]
  },
  {
   "cell_type": "code",
   "execution_count": null,
   "id": "dd721746-122c-4b9f-9e14-96480aa936b3",
   "metadata": {},
   "outputs": [],
   "source": [
    "dizhi = '/your folder for optimal/'\n",
    "r21000_test = pd.read_csv(f'{dizhi} r2_test.csv')\n",
    "rmse1000_test = pd.read_csv(f'{dizhi} rmse_test.csv')\n",
    "r21000_test = r21000_test.replace(0,np.nan)\n",
    "rmse1000_test = rmse1000_test.replace(0,np.nan)\n",
    "r2_test = r21000_test.iloc[:,1:]\n",
    "rmse_test = rmse1000_test.iloc[:,1:]\n",
    "r21000_train = pd.read_csv(f'{dizhi} r2_train.csv')\n",
    "rmse1000_train = pd.read_csv(f'{dizhi} rmse_train.csv')\n",
    "r21000_train = r21000_train.replace(0,np.nan)\n",
    "rmse1000_train = rmse1000_train.replace(0,np.nan)\n",
    "r2_train = r21000_train.iloc[:,1:]\n",
    "rmse_train = rmse1000_train.iloc[:,1:]"
   ]
  },
  {
   "cell_type": "code",
   "execution_count": null,
   "id": "702b4f2c-4797-4561-94b1-989ab33390e6",
   "metadata": {},
   "outputs": [],
   "source": [
    "datas = pd.DataFrame()\n",
    "datas['features'] = importance_combination['feature']\n",
    "datas['r2_test'] = r2_test.mean(axis = 1)\n",
    "datas['rmse_test'] = rmse_test.mean(axis = 1)\n",
    "datas['r2_train'] = r2_train.mean(axis = 1)\n",
    "datas['rmse_train'] = rmse_train.mean(axis = 1)\n",
    "result = pd.DataFrame()\n",
    "for data in datas.values.tolist():\n",
    "    feature, r2_1, rmse_1, r2_2, rmse_2 = data\n",
    "    number = feature.split('+')\n",
    "    L = len(number)\n",
    "    x = int(L)\n",
    "    result = result.append({'feature':feature, 'feature_number':x, 'rmse_test':rmse_1, 'r2_test':r2_1, 'rmse_train':rmse_2, 'r2_train':r2_2}, ignore_index = True)"
   ]
  },
  {
   "cell_type": "code",
   "execution_count": null,
   "id": "4f133e64-abc0-4518-a929-896fae22706a",
   "metadata": {},
   "outputs": [],
   "source": [
    "result.to_csv(f'{dizhi}your optimal result.csv',index = False)"
   ]
  },
  {
   "cell_type": "markdown",
   "id": "7becefb7-9f7f-459c-9e58-110934033196",
   "metadata": {},
   "source": [
    "## bagging"
   ]
  },
  {
   "cell_type": "code",
   "execution_count": null,
   "id": "41f41758-e653-49a7-95ae-511d6ef36cc4",
   "metadata": {},
   "outputs": [],
   "source": [
    "dizhi = \"/bagging/\"\n",
    "dire = f\"{dizhi}result/\""
   ]
  },
  {
   "cell_type": "code",
   "execution_count": null,
   "id": "92379e49-2ef0-4b8d-8e00-cd7d87ee26da",
   "metadata": {},
   "outputs": [],
   "source": [
    "r2_te = pd.DataFrame()\n",
    "k = 1\n",
    "for i in importance_combination.values.tolist():\n",
    "    r2_te_sum = pd.DataFrame(0 , index = [0, 1, 2, 3, 4, 5, 6, 7, 8, 9, 10, 11], columns = ['V1'])\n",
    "    print(f\"{k}.{i[0]}\")\n",
    "    k = k + 1\n",
    "    for j in range(1, 31):\n",
    "        name = f' {j} {i[0]} r2_test.csv'\n",
    "        data = f\"{dire}{name}\"\n",
    "        file = pd.read_csv(data)\n",
    "        file = file.iloc[:,1:] \n",
    "        r2_te_sum = r2_te_sum + file\n",
    "    r2_te_sum = r2_te_sum/30 \n",
    "    r2_te_sum.index = [25, 50, 75, 100 ,125, 150, 175, 200, 225, 250, 275, 300]\n",
    "    r2_te_sum.columns = [\"nbagg\"]\n",
    "    r2_te_sum_find = r2_te_sum.max()\n",
    "    fc_max_r2_te = r2_te_sum_find.max()\n",
    "    for index, row in r2_te_sum.iterrows():\n",
    "        for column in r2_te_sum.columns:\n",
    "            value = row[column]\n",
    "            if value == fc_max_r2_te:\n",
    "                r2_te = r2_te.append({'features':i[0], 'best_hp_result':fc_max_r2_te, 'nbagg':index}, ignore_index = True)"
   ]
  },
  {
   "cell_type": "code",
   "execution_count": null,
   "id": "ebd45f43-039c-4c77-ae87-ebeb868e0e96",
   "metadata": {},
   "outputs": [],
   "source": [
    "r2_te.to_csv(f'{dizhi}r2_te.csv', index = False)"
   ]
  },
  {
   "cell_type": "markdown",
   "id": "4944a87d-0af9-4d74-82e4-575f64d8d3af",
   "metadata": {},
   "source": [
    "## optimal"
   ]
  },
  {
   "cell_type": "code",
   "execution_count": null,
   "id": "c712cac0-d8b5-4677-b63d-3a41c9e78de3",
   "metadata": {},
   "outputs": [],
   "source": [
    "dizhi = '/your folder for optimal/'\n",
    "r21000_test = pd.read_csv(f'{dizhi} r2_test.csv')\n",
    "rmse1000_test = pd.read_csv(f'{dizhi} rmse_test.csv')\n",
    "r21000_test = r21000_test.replace(0,np.nan)\n",
    "rmse1000_test = rmse1000_test.replace(0,np.nan)\n",
    "r2_test = r21000_test.iloc[:,1:]\n",
    "rmse_test = rmse1000_test.iloc[:,1:]\n",
    "r21000_train = pd.read_csv(f'{dizhi} r2_train.csv')\n",
    "rmse1000_train = pd.read_csv(f'{dizhi} rmse_train.csv')\n",
    "r21000_train = r21000_train.replace(0,np.nan)\n",
    "rmse1000_train = rmse1000_train.replace(0,np.nan)\n",
    "r2_train = r21000_train.iloc[:,1:]\n",
    "rmse_train = rmse1000_train.iloc[:,1:]"
   ]
  },
  {
   "cell_type": "code",
   "execution_count": null,
   "id": "949e3ccf-54ab-4697-80f0-ad961b63a846",
   "metadata": {},
   "outputs": [],
   "source": [
    "datas = pd.DataFrame()\n",
    "datas['features'] = importance_combination['feature']\n",
    "datas['r2_test'] = r2_test.mean(axis = 1)\n",
    "datas['rmse_test'] = rmse_test.mean(axis = 1)\n",
    "datas['r2_train'] = r2_train.mean(axis = 1)\n",
    "datas['rmse_train'] = rmse_train.mean(axis = 1)\n",
    "result = pd.DataFrame()\n",
    "for data in datas.values.tolist():\n",
    "    feature, r2_1, rmse_1, r2_2, rmse_2 = data\n",
    "    number = feature.split('+')\n",
    "    L = len(number)\n",
    "    x = int(L)\n",
    "    result = result.append({'feature':feature, 'feature_number':x, 'rmse_test':rmse_1, 'r2_test':r2_1, 'rmse_train':rmse_2, 'r2_train':r2_2}, ignore_index = True)"
   ]
  },
  {
   "cell_type": "code",
   "execution_count": null,
   "id": "cda2046c-2845-4af0-9b6a-5848e26651e9",
   "metadata": {},
   "outputs": [],
   "source": [
    "result.to_csv(f'{dizhi}your optimal result.csv',index = False)"
   ]
  }
 ],
 "metadata": {
  "kernelspec": {
   "display_name": "Python 3 (ipykernel)",
   "language": "python",
   "name": "python3"
  },
  "language_info": {
   "codemirror_mode": {
    "name": "ipython",
    "version": 3
   },
   "file_extension": ".py",
   "mimetype": "text/x-python",
   "name": "python",
   "nbconvert_exporter": "python",
   "pygments_lexer": "ipython3",
   "version": "3.8.18"
  }
 },
 "nbformat": 4,
 "nbformat_minor": 5
}
