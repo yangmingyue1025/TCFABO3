{
 "cells": [
  {
   "cell_type": "code",
   "execution_count": 7,
   "id": "ffcb21f1-81a5-49f7-9e71-89427aec75c0",
   "metadata": {},
   "outputs": [
    {
     "name": "stdout",
     "output_type": "stream",
     "text": [
      "成功从 '/Users/yangmingyue/Desktop/ABO365/分段计算/TCF没Ba.csv' 文件中加载数据。\n",
      "共找到 14 条数据记录。\n",
      "------------------------------\n",
      "模型性能评估结果：\n",
      "R-squared (R²): 0.2113\n",
      "均方根误差 (RMSE): 15.3809\n",
      "------------------------------\n"
     ]
    }
   ],
   "source": [
    "# 导入所需的库\n",
    "import pandas as pd\n",
    "from sklearn.metrics import r2_score, mean_squared_error\n",
    "import numpy as np\n",
    "\n",
    "# --- 1. 配置 ---\n",
    "# 请将 'your_file.csv' 替换成您的实际文件名\n",
    "csv_file_path = '/Users/yangmingyue/Desktop/ABO365/分段计算/TCF没Ba.csv' \n",
    "true_value_column = 'TCF'      # 真实值所在的列名\n",
    "predicted_value_column = 'TCF1' # 预测值所在的列名\n",
    "\n",
    "# --- 2. 读取并处理数据 ---\n",
    "try:\n",
    "    # 使用pandas读取CSV文件\n",
    "    data_df = pd.read_csv(csv_file_path)\n",
    "    \n",
    "    # 从DataFrame中提取真实值和预测值列\n",
    "    # .values 会将数据转换为NumPy数组，这对于scikit-learn是最高效的格式\n",
    "    y_true = data_df[true_value_column].values\n",
    "    y_pred = data_df[predicted_value_column].values\n",
    "    \n",
    "    # 打印成功信息和数据概览\n",
    "    print(f\"成功从 '{csv_file_path}' 文件中加载数据。\")\n",
    "    print(f\"共找到 {len(data_df)} 条数据记录。\")\n",
    "    print(\"-\" * 30)\n",
    "\n",
    "except FileNotFoundError:\n",
    "    print(f\"错误：文件 '{csv_file_path}' 未找到。\")\n",
    "    print(\"请确保文件名正确，并且文件与脚本在同一目录下，或者提供文件的完整路径。\")\n",
    "    exit() # 如果文件不存在，则退出程序\n",
    "except KeyError as e:\n",
    "    print(f\"错误：在CSV文件中找不到指定的列名: {e}。\")\n",
    "    print(f\"请检查您的文件是否包含名为 '{true_value_column}' 和 '{predicted_value_column}' 的列。\")\n",
    "    exit() # 如果列名不对，则退出程序\n",
    "\n",
    "# --- 3. 计算性能指标 ---\n",
    "\n",
    "# 计算 R-squared (R²)\n",
    "r2 = r2_score(y_true, y_pred)\n",
    "\n",
    "# 计算 Mean Squared Error (MSE)\n",
    "mse = mean_squared_error(y_true, y_pred)\n",
    "\n",
    "# 计算 Root Mean Squared Error (RMSE)\n",
    "rmse = np.sqrt(mse)\n",
    "# 或者可以直接用 scikit-learn 的功能：rmse = mean_squared_error(y_true, y_pred, squared=False)\n",
    "\n",
    "# --- 4. 打印结果 ---\n",
    "print(\"模型性能评估结果：\")\n",
    "print(f\"R-squared (R²): {r2:.4f}\")\n",
    "print(f\"均方根误差 (RMSE): {rmse:.4f}\")\n",
    "print(\"-\" * 30)"
   ]
  },
  {
   "cell_type": "code",
   "execution_count": null,
   "id": "6702ca77-6d2b-4dee-bc27-a1ee2163c4f6",
   "metadata": {},
   "outputs": [],
   "source": []
  }
 ],
 "metadata": {
  "kernelspec": {
   "display_name": "Python 3 (ipykernel)",
   "language": "python",
   "name": "python3"
  },
  "language_info": {
   "codemirror_mode": {
    "name": "ipython",
    "version": 3
   },
   "file_extension": ".py",
   "mimetype": "text/x-python",
   "name": "python",
   "nbconvert_exporter": "python",
   "pygments_lexer": "ipython3",
   "version": "3.8.18"
  }
 },
 "nbformat": 4,
 "nbformat_minor": 5
}
