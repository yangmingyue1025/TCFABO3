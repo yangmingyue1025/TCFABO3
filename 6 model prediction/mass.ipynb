{
 "cells": [
  {
   "cell_type": "code",
   "execution_count": 1,
   "id": "be6900f9-a3ca-402c-accb-3a31c5ca9037",
   "metadata": {},
   "outputs": [],
   "source": [
    "import pandas as pd\n",
    "from glob import glob\n",
    "\n",
    "pd.set_option('display.max_columns', None)\n",
    "\n",
    "pd.set_option('display.max_rows',None)\n",
    "\n",
    "import os\n",
    "import shutil"
   ]
  },
  {
   "cell_type": "code",
   "execution_count": 3,
   "id": "dddaa60d-5305-47e9-ab7b-1eb6403af718",
   "metadata": {},
   "outputs": [],
   "source": [
    "\n",
    "def deal(list_ori,p):   \n",
    "    list_new=[] \n",
    "    list_short=[] \n",
    "    for i in list_ori:\n",
    "        if i!=p:\n",
    "            list_short.append(i)\n",
    "        else:\n",
    "            list_new.append(list_short)\n",
    "            list_short=[]\n",
    "    list_new.append(list_short)   \n",
    "    return list_new"
   ]
  },
  {
   "cell_type": "code",
   "execution_count": 4,
   "id": "50c74d16-e02c-4aa7-9ab3-bd93a47fe265",
   "metadata": {},
   "outputs": [
    {
     "name": "stdout",
     "output_type": "stream",
     "text": [
      "3.14\n"
     ]
    }
   ],
   "source": [
    "\n",
    "import re\n",
    "\n",
    "def extract_float_from_string(string):\n",
    "\n",
    "    pattern = r\"\\d+\\.\\d+\"\n",
    "    match = re.search(pattern, string)\n",
    "\n",
    "    if match:\n",
    "\n",
    "        float_str = match.group()\n",
    "\n",
    "\n",
    "        float_num = float(float_str)\n",
    "\n",
    "        return float_num\n",
    "    else:\n",
    "        return None\n",
    "\n",
    "\n",
    "result = extract_float_from_string(\"这是一个含有小数的字符串，小数为3.14\")\n",
    "print(result)  # 输出: 3.14\n"
   ]
  },
  {
   "cell_type": "code",
   "execution_count": 5,
   "id": "21b0b134-8467-4622-a041-266c5d8ee91b",
   "metadata": {},
   "outputs": [
    {
     "name": "stdout",
     "output_type": "stream",
     "text": [
      "   0  1\n",
      "0  A  B\n",
      "1  C  D\n",
      "2  E  F\n"
     ]
    }
   ],
   "source": [
    "\n",
    "def list_to_dataframe(lst, rows, cols):\n",
    "\n",
    "    df = pd.DataFrame(index=range(rows), columns=range(cols))\n",
    "\n",
    "    for i, string in enumerate(lst):\n",
    "        row = i // cols  # row\n",
    "        col = i % cols   # col\n",
    "        df.iloc[row, col] = string\n",
    "\n",
    "    return df\n",
    "\n",
    "# 示例列表\n",
    "my_list = ['A', 'B', 'C', 'D', 'E', 'F']\n",
    "\n",
    "\n",
    "result = list_to_dataframe(my_list, 3, 2)\n",
    "print(result)"
   ]
  },
  {
   "cell_type": "code",
   "execution_count": 6,
   "id": "72a13cda-4776-4a24-95c9-7fd8d019f901",
   "metadata": {},
   "outputs": [
    {
     "name": "stdout",
     "output_type": "stream",
     "text": [
      "这是 一个 字符串 \n"
     ]
    }
   ],
   "source": [
    "\n",
    "import re\n",
    "\n",
    "def remove_extra_spaces(string):\n",
    "    # new_string\n",
    "    new_string = re.sub(r\"\\s+\", \" \", string)\n",
    "\n",
    "    return new_string\n",
    "\n",
    "\n",
    "result = remove_extra_spaces(\"这是 一个   字符串  \")\n",
    "print(result)  "
   ]
  },
  {
   "cell_type": "code",
   "execution_count": 7,
   "id": "5749fb2e-9447-47b6-9d09-845079815f6c",
   "metadata": {},
   "outputs": [
    {
     "name": "stdout",
     "output_type": "stream",
     "text": [
      "         0\n",
      "0    A B C\n",
      "1  D E F G\n",
      "2      H I\n",
      "   0  1     2     3\n",
      "0  A  B     C  None\n",
      "1  D  E     F     G\n",
      "2  H  I  None  None\n"
     ]
    }
   ],
   "source": [
    "\n",
    "import pandas as pd\n",
    "\n",
    "def split_dataframe(df):\n",
    "\n",
    "    split_data = df[0].str.split(expand=True)\n",
    "    \n",
    "\n",
    "    new_df = pd.concat([split_data[col] for col in split_data.columns], axis=1)\n",
    "\n",
    "    return new_df\n",
    "\n",
    "\n",
    "df = pd.DataFrame({0: ['A B C', 'D E F G', 'H I']})\n",
    "print(df)\n",
    "\n",
    "result = split_dataframe(df)\n",
    "print(result)\n"
   ]
  },
  {
   "cell_type": "code",
   "execution_count": 8,
   "id": "b1978015-e0f1-45a6-93f2-13ac930f0743",
   "metadata": {},
   "outputs": [
    {
     "name": "stdout",
     "output_type": "stream",
     "text": [
      "Ba0\n"
     ]
    }
   ],
   "source": [
    "\n",
    "def extract_string(string):\n",
    "\n",
    "    splitted = string.split(\":\")\n",
    "    \n",
    "    if len(splitted) > 1:\n",
    "        extracted_string = splitted[0].strip()\n",
    "        kkkk = extracted_string.split()\n",
    "        zzzz = kkkk[2]\n",
    "        return zzzz\n",
    "    else:\n",
    "        return None\n",
    "\n",
    "\n",
    "result = extract_string(\"BV-sum of Ba0: 1.6529v.u.\")\n",
    "print(result) \n"
   ]
  },
  {
   "cell_type": "code",
   "execution_count": 9,
   "id": "6b3c25e1-7763-478f-a3ab-d0bff8668616",
   "metadata": {},
   "outputs": [],
   "source": [
    "\n",
    "def filter_rows(df):\n",
    "    new_df = df[~df.iloc[:, 0].str.contains('O')]\n",
    "    return new_df"
   ]
  },
  {
   "cell_type": "code",
   "execution_count": 10,
   "id": "1371f973-9968-4190-aa4b-0a54972ac683",
   "metadata": {},
   "outputs": [
    {
     "name": "stdout",
     "output_type": "stream",
     "text": [
      "['Ca', '0.25']\n"
     ]
    }
   ],
   "source": [
    "def separate_letters_and_numbers(string):\n",
    "    pattern = r'[a-zA-Z]+|\\d+(?:\\.\\d+)?' \n",
    "    separate_parts = re.findall(pattern, string)\n",
    "    return separate_parts\n",
    "\n",
    "string = \"Ca0.25\"\n",
    "result = separate_letters_and_numbers(string)\n",
    "print(result)"
   ]
  },
  {
   "cell_type": "code",
   "execution_count": 11,
   "id": "ce49f751-600a-4829-9322-89de4dbe504c",
   "metadata": {},
   "outputs": [
    {
     "name": "stdout",
     "output_type": "stream",
     "text": [
      "  Col1 Letters Numbers\n",
      "0  Ba1      Ba       1\n",
      "1  Ca2      Ca       2\n",
      "2  Da3      Da       3\n"
     ]
    }
   ],
   "source": [
    "import pandas as pd\n",
    "\n",
    "def separate_letters_numbers(df):\n",
    "\n",
    "    df[['Letters', 'Numbers']] = df.iloc[:, 0].str.extract(r'([A-Za-z]+)(\\d+)', expand=True)\n",
    "\n",
    "    return df\n",
    "\n",
    "\n",
    "df = pd.DataFrame({'Col1': ['Ba1', 'Ca2', 'Da3']})\n",
    "\n",
    "\n",
    "result = separate_letters_numbers(df)\n",
    "print(result)"
   ]
  },
  {
   "cell_type": "code",
   "execution_count": 13,
   "id": "b4d24be1-8d37-46b6-a0a8-c3242bc2985d",
   "metadata": {},
   "outputs": [],
   "source": [
    "formula = pd.read_csv('formula.csv')\n",
    "file_path = 'mass.csv'  "
   ]
  },
  {
   "cell_type": "code",
   "execution_count": 15,
   "id": "0fca44a3-8eb8-4105-8174-dcb91e3cb207",
   "metadata": {},
   "outputs": [
    {
     "name": "stdout",
     "output_type": "stream",
     "text": [
      "处理完成，结果已保存到 /Users/yangmingyue/Desktop/ABO365/模型应用精简/5000formula2.csv\n"
     ]
    }
   ],
   "source": [
    "import csv\n",
    "\n",
    "def merge_fourth_and_fifth_columns(input_csv, output_csv):\n",
    "\n",
    "    with open(input_csv, 'r', encoding='utf-8') as infile, open(output_csv, 'w', newline='', encoding='utf-8') as outfile:\n",
    "        reader = csv.reader(infile)\n",
    "        writer = csv.writer(outfile)\n",
    "        \n",
    "\n",
    "        header = next(reader, None)\n",
    "        if header:\n",
    "\n",
    "            header[3] = f\"{header[3]}+{header[4]}\" if len(header) > 4 else \"Merged Column\"\n",
    "\n",
    "            del header[4]\n",
    "            writer.writerow(header)\n",
    "        \n",
    "        # 处理数据行\n",
    "        for row in reader:\n",
    "            if len(row) >= 5:  \n",
    "\n",
    "                merged_value = f\"{row[3]}{row[4]}\"  \n",
    "\n",
    "                row[3] = merged_value\n",
    "                \n",
    "                del row[4]\n",
    "            writer.writerow(row)\n",
    "\n",
    "\n",
    "input_filename = 'input.csv'  \n",
    "output_filename = 'output.csv' \n",
    "\n",
    "merge_fourth_and_fifth_columns(input_filename, output_filename)\n",
    "print(f\"处理完成，结果已保存到 {output_filename}\")"
   ]
  },
  {
   "cell_type": "code",
   "execution_count": 14,
   "id": "31acc8e5-2f20-4f91-a56c-501b7aca2eaa",
   "metadata": {},
   "outputs": [
    {
     "name": "stdout",
     "output_type": "stream",
     "text": [
      "计算完成，结果已保存到 /Users/yangmingyue/Desktop/ABO365/模型应用新新/output_formula_mass.csv\n",
      "        name    formula         mp-id               cif_name  molecular_mass\n",
      "0  Mg2CuSbO6  Mg2CuSbO6  (mp-1372341)  Mg2CuSbO6(mp-1372341)        329.9124\n",
      "1    Ca2VWO6    Ca2VWO6  (mp-1047139)    Ca2VWO6(mp-1047139)        410.9339\n",
      "2     HoCuO3     HoCuO3  (mp-1184736)     HoCuO3(mp-1184736)        276.4745\n",
      "3     CdFeO3     CdFeO3   (mp-776476)      CdFeO3(mp-776476)        216.2542\n",
      "4     PuNiO3     PuNiO3  (mp-1188081)     PuNiO3(mp-1188081)        350.6916\n"
     ]
    }
   ],
   "source": [
    "# read formula.csv \n",
    "formula_df = pd.read_csv('formula.csv')\n",
    "\n",
    "# read mass.csv \n",
    "atom_mass_df = pd.read_csv('mass.csv')\n",
    "\n",
    "\n",
    "atom_mass_dict = dict(zip(atom_mass_df['element'], atom_mass_df['atom_mass']))\n",
    "\n",
    "\n",
    "def calculate_molecular_mass(formula):\n",
    "    pattern = re.compile(r'([A-Z][a-z]*)(\\d*)')\n",
    "    matches = pattern.findall(formula)\n",
    "    total_mass = 0.0\n",
    "    for element, count in matches:\n",
    "        count = int(count) if count else 1\n",
    "        element_mass = atom_mass_dict.get(element, 0)\n",
    "        total_mass += element_mass * count\n",
    "    return total_mass\n",
    "\n",
    "\n",
    "formula_df['molecular_mass'] = formula_df['name'].apply(calculate_molecular_mass)\n",
    "\n",
    "\n",
    "output_file_path = 'output_formula_mass.csv'\n",
    "formula_df.to_csv(output_file_path, index=False)\n",
    "\n",
    "print(f\"计算完成，结果已保存到 {output_file_path}\")\n",
    "print(formula_df.head())"
   ]
  },
  {
   "cell_type": "code",
   "execution_count": 15,
   "id": "5b46b9bf-ccef-4f38-b2bf-d56618fc280c",
   "metadata": {},
   "outputs": [
    {
     "name": "stdout",
     "output_type": "stream",
     "text": [
      "处理完成，结果已保存到 /Users/yangmingyue/Desktop/ABO365/模型应用新新/output_formula_mass369.csv\n"
     ]
    }
   ],
   "source": [
    "import csv\n",
    "\n",
    "def process_csv(input_csv, output_csv):\n",
    "\n",
    "    with open(input_csv, 'r', encoding='utf-8') as infile, open(output_csv, 'w', newline='', encoding='utf-8') as outfile:\n",
    "        reader = csv.reader(infile)\n",
    "        writer = csv.writer(outfile)\n",
    "        \n",
    "\n",
    "        header = next(reader, None)\n",
    "        if header:\n",
    "            writer.writerow(header)\n",
    "        \n",
    "\n",
    "        for row in reader:\n",
    "            if len(row) >= 5: \n",
    "\n",
    "                second_column = row[1]\n",
    "                if second_column:\n",
    "                    last_char = second_column[-1]\n",
    "\n",
    "                    if last_char.isdigit():\n",
    "                        last_digit = int(last_char)\n",
    "                        \n",
    "\n",
    "                        fourth_column = row[4]\n",
    "                        try:\n",
    "                            fourth_value = float(fourth_column)\n",
    "                            if last_digit == 3:\n",
    "                                row[3] = str(fourth_value / 1)\n",
    "                            elif last_digit == 6:\n",
    "                                row[3] = str(fourth_value / 2)\n",
    "                            elif last_digit == 9:\n",
    "                                row[3] = str(fourth_value / 3)\n",
    "                        except ValueError:\n",
    "\n",
    "                            pass\n",
    "                \n",
    "            writer.writerow(row)\n",
    "\n",
    "\n",
    "input_filename = 'output_formula_mass.csv'  # 输入文件名\n",
    "output_filename = 'output_formula_mass369.csv'  # 输出文件名\n",
    "\n",
    "process_csv(input_filename, output_filename)\n",
    "print(f\"处理完成，结果已保存到 {output_filename}\")"
   ]
  },
  {
   "cell_type": "code",
   "execution_count": null,
   "id": "2a53e06e-47a2-4a07-9762-8528295d4187",
   "metadata": {},
   "outputs": [],
   "source": []
  }
 ],
 "metadata": {
  "kernelspec": {
   "display_name": "Python 3 (ipykernel)",
   "language": "python",
   "name": "python3"
  },
  "language_info": {
   "codemirror_mode": {
    "name": "ipython",
    "version": 3
   },
   "file_extension": ".py",
   "mimetype": "text/x-python",
   "name": "python",
   "nbconvert_exporter": "python",
   "pygments_lexer": "ipython3",
   "version": "3.8.18"
  }
 },
 "nbformat": 4,
 "nbformat_minor": 5
}
