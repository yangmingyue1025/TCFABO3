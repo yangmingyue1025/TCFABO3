{
 "cells": [
  {
   "cell_type": "code",
   "execution_count": 1,
   "id": "41d13f94-59bd-4436-b4e7-e151a33deb5b",
   "metadata": {},
   "outputs": [],
   "source": [
    "import os\n",
    "import numpy as np\n",
    "import pandas as pd\n",
    "import math\n",
    "pd.set_option('display.max_columns', None)\n",
    "pd.set_option('display.max_rows',None)\n",
    "from glob import glob\n",
    "import warnings\n",
    "warnings.filterwarnings(\"ignore\")"
   ]
  },
  {
   "cell_type": "code",
   "execution_count": 2,
   "id": "5c2909b4-da10-472d-8b8d-4d8920e8da62",
   "metadata": {},
   "outputs": [],
   "source": [
    "input_path = '/validation/'\n",
    "data = pd.read_csv(f\"{input_path}validation1.csv\")\n",
    "r2_test = pd.read_csv(f\"{input_path}r2_test.csv\")\n",
    "rmse_test = pd.read_csv(f\"{input_path}rmse_test.csv\")\n",
    "pred_test = pd.read_csv(f\"{input_path}pred_test.csv\")\n",
    "y = data.iloc[:,-1] \n",
    "test_data = pred_test.iloc[:,1:]"
   ]
  },
  {
   "cell_type": "code",
   "execution_count": 8,
   "id": "f6f6345e-b105-4160-a537-8b65e6e568ea",
   "metadata": {},
   "outputs": [],
   "source": [
    "L = len(y)\n",
    "Y_test_mean = test_data.mean(axis = 1)\n",
    "Y_test_std = test_data.std(axis = 1)\n",
    "#AE\n",
    "AE_test =  pd.DataFrame()\n",
    "for i in range(0,L):\n",
    "    name = f'K{i}'\n",
    "    AE_test[name] = test_data.iloc[i,:] - y[i]\n",
    "AE_test = AE_test.T\n",
    "AE_test_mean = AE_test.mean(axis = 1)\n",
    "AE_test_mean = AE_test_mean.to_frame()\n",
    "AE_test_mean.reset_index(inplace = True)\n",
    "#\\σ\\\n",
    "xigema_test = pd.DataFrame()\n",
    "for i in range(0,L):\n",
    "    name = f'K{i}'\n",
    "    xigema_test[name] = (abs(test_data.iloc[i,:] - y[i]))/y[i]\n",
    "xigema_test = xigema_test.T\n",
    "xigema_test_mean = xigema_test.mean(axis = 1)\n",
    "xigema_test_mean = xigema_test_mean.to_frame()\n",
    "xigema_test_mean.reset_index(inplace = True)"
   ]
  },
  {
   "cell_type": "code",
   "execution_count": 9,
   "id": "067c388f-0533-4b0c-a382-f45a25fbe74d",
   "metadata": {},
   "outputs": [],
   "source": [
    "result = pd.DataFrame()\n",
    "result['TCF'] = y\n",
    "result['test_mean'] = Y_test_mean\n",
    "result['test_std'] = Y_test_std\n",
    "result['test_xigema'] = xigema_test_mean[0]\n",
    "result['test_AE'] = AE_test_mean[0]"
   ]
  },
  {
   "cell_type": "code",
   "execution_count": 10,
   "id": "aed93410-9b52-4de3-8df2-04bbd6991c14",
   "metadata": {},
   "outputs": [],
   "source": [
    "xigema_mean_test = (y - Y_test_mean)**2\n",
    "x_test = xigema_mean_test.to_frame()\n",
    "result['r2_test'] = r2_test.mean(axis = 1)\n",
    "result['rmse_test'] = rmse_test.mean(axis = 1)\n",
    "result['xigema_mean_test'] = math.sqrt(x_test.mean(axis = 0))"
   ]
  },
  {
   "cell_type": "code",
   "execution_count": 11,
   "id": "7189dfc4-535a-4d25-b479-f13b24612d20",
   "metadata": {},
   "outputs": [],
   "source": [
    "result.to_csv(f\"{input_path}result.csv\",index = False)"
   ]
  },
  {
   "cell_type": "code",
   "execution_count": null,
   "id": "0ff6fc6d-4fb6-47b3-b110-fb9ce9c27959",
   "metadata": {},
   "outputs": [],
   "source": []
  }
 ],
 "metadata": {
  "kernelspec": {
   "display_name": "Python 3 (ipykernel)",
   "language": "python",
   "name": "python3"
  },
  "language_info": {
   "codemirror_mode": {
    "name": "ipython",
    "version": 3
   },
   "file_extension": ".py",
   "mimetype": "text/x-python",
   "name": "python",
   "nbconvert_exporter": "python",
   "pygments_lexer": "ipython3",
   "version": "3.8.18"
  }
 },
 "nbformat": 4,
 "nbformat_minor": 5
}
